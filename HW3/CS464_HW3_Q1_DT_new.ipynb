{
  "nbformat": 4,
  "nbformat_minor": 0,
  "metadata": {
    "colab": {
      "name": "CS464_HW3_Q1_DT.ipynb",
      "provenance": [],
      "collapsed_sections": [
        "SV08UqDlCLAa",
        "mKOdHfXWCHcn",
        "QREmjFwPCXP2"
      ]
    },
    "kernelspec": {
      "name": "python3",
      "display_name": "Python 3"
    },
    "language_info": {
      "name": "python"
    }
  },
  "cells": [
    {
      "cell_type": "markdown",
      "metadata": {
        "id": "SV08UqDlCLAa"
      },
      "source": [
        "# Initialization"
      ]
    },
    {
      "cell_type": "code",
      "metadata": {
        "colab": {
          "base_uri": "https://localhost:8080/"
        },
        "id": "UliHcSsTMsod",
        "outputId": "b695df4c-e810-4261-fcb7-1cafef0c1ecf"
      },
      "source": [
        "#------------------------------INITIALIZATION----------------------------------\n",
        "\n",
        "from google.colab import drive\n",
        "drive.mount('/content/gdrive')\n",
        "\n",
        "!ls /content/gdrive/My\\ Drive/Dora/Bilkent/CS464/HW3 # Use YOUR OWN DIRECTORY!!\n",
        "\n",
        "\n",
        "import os\n",
        "import csv\n",
        "import math\n",
        "import random\n",
        "import operator\n",
        "import pdb\n",
        "import time\n",
        "\n",
        "import numpy as np\n",
        "import pandas as pd\n",
        "import matplotlib.pyplot as plt\n",
        "import matplotlib.image as mpimg\n",
        "\n",
        "from timeit import default_timer as timer\n",
        "from pylab import imshow,title,figure,show, gray\n",
        "import seaborn as sns\n",
        "\n",
        "import torch\n",
        "import torch.nn as nn\n",
        "import torch.optim as optim\n",
        "from sklearn.svm import SVC\n",
        "\n",
        "np.random.seed(0)\n",
        "\n",
        "root = '/content/gdrive/My Drive/Dora/Bilkent/CS464/HW3'\n",
        "\n",
        "cancer_csv = os.path.join(root, 'breast_cancer.csv')\n",
        "df_cancer = pd.read_csv(cancer_csv, header=0)\n",
        "\n",
        "df_train = df_cancer.iloc[:500, :]\n",
        "df_test = df_cancer.iloc[500:, :]\n",
        "\n",
        "X = df_train.drop(['Class'], axis = 1) # We drop our \"target\" feature and use all the remaining features in our dataframe to train the model.\n",
        "X.head()\n",
        "y = df_train['Class']\n",
        "y.head()\n",
        "\n",
        "print()"
      ],
      "execution_count": 1,
      "outputs": [
        {
          "output_type": "stream",
          "text": [
            "Mounted at /content/gdrive\n",
            "breast_cancer.csv  cs464_spring2021_hw3.ipynb  Q1.pdf  q2_dataset\n",
            "\n"
          ],
          "name": "stdout"
        }
      ]
    },
    {
      "cell_type": "markdown",
      "metadata": {
        "id": "ibW1_06fC0dG"
      },
      "source": [
        "## Performance Metrics Class"
      ]
    },
    {
      "cell_type": "code",
      "metadata": {
        "id": "Bau9_FAt6qZL"
      },
      "source": [
        "class Performance():\n",
        "    def __init__(self, y_test, y_predict):\n",
        "        \n",
        "        true_positive = 0\n",
        "        true_negative = 0\n",
        "        false_positive = 0\n",
        "        false_negative = 0\n",
        "\n",
        "        for i in range(len(y_test)):\n",
        "            if y_predict[i] == 1 and y_predict[i] == y_test[i] :\n",
        "                true_positive += 1\n",
        "            elif y_predict[i] == 0 and y_predict[i] == y_test[i] :\n",
        "                true_negative += 1\n",
        "            elif y_predict[i] == 1 and y_predict[i] != y_test[i] :\n",
        "                false_positive += 1\n",
        "            elif y_predict[i] == 0 and y_predict[i] != y_test[i] :\n",
        "                false_negative += 1\n",
        "        \n",
        "        self.tp = true_positive\n",
        "        self.tn = true_negative\n",
        "        self.fp = false_positive\n",
        "        self.fn = false_negative\n",
        "\n",
        "        self.confusion_matrix = pd.DataFrame(np.array([[true_positive, false_positive], [false_negative, true_negative]]), \n",
        "                                             columns=['cancer diagnosis', 'no diagnosis'],\n",
        "                                             index=['malignant tumor', 'benign tumor'])\n",
        "        self.accuracy = (true_positive+true_negative)/(true_negative+true_positive+false_negative+false_positive)*100\n",
        "\n",
        "    def calculate_all(self) :\n",
        "        self.precision = self.tp / (self.tp + self.fp)*100\n",
        "        self.recall = self.tp / (self.tp + self.fn)*100\n",
        "        self.f1 = 2*self.precision * self.recall / (self.precision + self.recall) / 100\n",
        "        beta = 2 \n",
        "        self.f2 = (beta^2+1)*self.precision*self.recall/((beta^2)*self.precision + self.recall)/100  #beta f-measure with beta = 2, giving extra weight to recall\n",
        "       \n",
        "    def show(self, best_one = False):\n",
        "        print('Number of True Positives: ', self.tp)\n",
        "        print('Number of True Negatives: ', self.tn)\n",
        "        print('Number of False Positives: ', self.fp)\n",
        "        print('Number of False Negatives: ', self.fn)\n",
        "        print('Accuracy is ', format(self.accuracy, '.4f'), ' %')\n",
        "        \n",
        "        if best_one :\n",
        "            print('Precision is ', format(self.precision, '.4f'), '%')\n",
        "            print('Recall is ', format(self.recall, '.4f'), '%')\n",
        "            print('F1 measure is ', format(self.f1, '.4f'))\n",
        "            print('F2 measure is ', format(self.f2, '.4f'))\n"
      ],
      "execution_count": 6,
      "outputs": []
    },
    {
      "cell_type": "markdown",
      "metadata": {
        "id": "mKOdHfXWCHcn"
      },
      "source": [
        "# Question 1.1"
      ]
    },
    {
      "cell_type": "code",
      "metadata": {
        "colab": {
          "base_uri": "https://localhost:8080/",
          "height": 1000
        },
        "id": "4-E5SXB4UHmM",
        "outputId": "b57bcce0-28e4-4301-ce2f-d8ba1dcdd4c0"
      },
      "source": [
        "#------------------------------QUESTION 1.1------------------------------\n",
        "\n",
        "#from sklearn.model_selection import train_test_split\n",
        "#from sklearn.metrics import classification_report, confusion_matrix\n",
        "\n",
        "\n",
        "def FastTrainSVM(X_train, y_train, X_test, c):\n",
        "     X_train_min = X_train.min()\n",
        "     X_train_max = X_train.max()\n",
        "     X_train_range = (X_train_max - X_train_min)\n",
        "\n",
        "     X_train_scaled = (X_train - X_train_min)/(X_train_range)\n",
        "     X_train_scaled.head()\n",
        "\n",
        "     X_test_min = X_test.min()\n",
        "     X_test_range = (X_test - X_test_min).max()\n",
        "     X_test_scaled = (X_test - X_test_min)/X_test_range\n",
        "\n",
        "     svc_model = SVC(C = c)\n",
        "     svc_model.fit(X_train_scaled, y_train)\n",
        "\n",
        "     y_predict = svc_model.predict(X_test_scaled)\n",
        "     return(y_predict)\n",
        "\n",
        "parameters = [0.001, 0.01, 0.1, 1, 10, 100]\n",
        "mean_acc = []\n",
        "optC_index = 0\n",
        "k = 10 # number of folds\n",
        "\n",
        "for p, c in enumerate(parameters):\n",
        "    print('For hyper-parameter c =', c, ', 10-fold cross validation: ')\n",
        "    cross_acc = []\n",
        "\n",
        "    for i in range(k):\n",
        "        \n",
        "        X_train = X.drop(range(k*i, k*(i+1)), axis = 0 ) # training features without validation\n",
        "        y_train =  y.drop(range(k*i, k*(i+1)), axis = 0 ) # training labels without validation\n",
        "\n",
        "        X_valid = X.iloc[k*i : k*(i+1), :] # validation features\n",
        "        y_valid = y[k*i : k*(i+1)] # validation labels\n",
        "        \n",
        "        y_predict = FastTrainSVM(X_train, y_train, X_valid, c)\n",
        "        prf = Performance(y_valid.to_numpy(), y_predict)\n",
        "        acc = prf.accuracy\n",
        "        #print('fold:', i, ', Accuracy =', acc, '%')\n",
        "        cross_acc = np.append(cross_acc, acc)\n",
        "    \n",
        "    mean_acc = np.append(mean_acc, cross_acc.mean()) \n",
        "    print('Mean accuracy is =', mean_acc[p], '%\\n')\n",
        "\n",
        "    if mean_acc[p] > mean_acc[optC_index] :\n",
        "        optC_index = p\n",
        "\n",
        "optC = parameters[optC_index]\n",
        "plt.semilogx(parameters, mean_acc, '*-')\n",
        "plt.title(\"Plot of Mean Accuracies of Hyper-Parameters\\n\")\n",
        "plt.ylabel('Mean Accuracies (%)')\n",
        "plt.xlabel('Hyper-Parameter Values (log range)')\n",
        "plt.show()\n",
        "\n",
        "print('\\nHighest accuracy is reached when hyper-parameter c =', optC, ', which is determined to be the best model.\\n', '\\nWhen the best model is used on the test values, the following results are obtained: ' )        \n",
        "\n",
        "X_test = df_test.drop(['Class'], axis = 1) # We drop our \"target\" feature and use all the remaining features in our dataframe to train the model.\n",
        "X_test.head()\n",
        "y_test = df_test['Class']\n",
        "y_test.head()\n",
        "\n",
        "y_testpredict = FastTrainSVM(X, y, X_test, optC)\n",
        "testprf = Performance(y_test.to_numpy(), y_testpredict)\n",
        "testprf.calculate_all()\n",
        "cm = testprf.confusion_matrix\n",
        "\n",
        "testprf.show(best_one = True)\n",
        "sns.heatmap(cm, annot=True, fmt=\"d\")\n",
        "\n",
        "print()\n"
      ],
      "execution_count": 7,
      "outputs": [
        {
          "output_type": "stream",
          "text": [
            "For hyper-parameter c = 0.001 , 10-fold cross validation: \n",
            "Mean accuracy is = 56.0 %\n",
            "\n",
            "For hyper-parameter c = 0.01 , 10-fold cross validation: \n",
            "Mean accuracy is = 93.0 %\n",
            "\n",
            "For hyper-parameter c = 0.1 , 10-fold cross validation: \n",
            "Mean accuracy is = 89.0 %\n",
            "\n",
            "For hyper-parameter c = 1 , 10-fold cross validation: \n",
            "Mean accuracy is = 91.0 %\n",
            "\n",
            "For hyper-parameter c = 10 , 10-fold cross validation: \n",
            "Mean accuracy is = 89.0 %\n",
            "\n",
            "For hyper-parameter c = 100 , 10-fold cross validation: \n",
            "Mean accuracy is = 88.0 %\n",
            "\n"
          ],
          "name": "stdout"
        },
        {
          "output_type": "display_data",
          "data": {
            "image/png": "[encoded data removed]",
            "text/plain": [
              "<Figure size 432x288 with 1 Axes>"
            ]
          },
          "metadata": {
            "tags": [],
            "needs_background": "light"
          }
        },
        {
          "output_type": "stream",
          "text": [
            "\n",
            "Highest accuracy is reached when hyper-parameter c = 0.01 , which is determined to be the best model.\n",
            " \n",
            "When the best model is used on the test values, the following results are obtained: \n",
            "Number of True Positives:  44\n",
            "Number of True Negatives:  154\n",
            "Number of False Positives:  1\n",
            "Number of False Negatives:  0\n",
            "Accuracy is  99.4975  %\n",
            "Precision is  97.7778 %\n",
            "Recall is  100.0000 %\n",
            "F1 measure is  0.9888\n",
            "F2 measure is  0.9778\n",
            "\n"
          ],
          "name": "stdout"
        },
        {
          "output_type": "display_data",
          "data": {
            "image/png": "[encoded data removed]",
            "text/plain": [
              "<Figure size 432x288 with 2 Axes>"
            ]
          },
          "metadata": {
            "tags": [],
            "needs_background": "light"
          }
        }
      ]
    },
    {
      "cell_type": "markdown",
      "metadata": {
        "id": "QREmjFwPCXP2"
      },
      "source": [
        "# Question 1.2"
      ]
    },
    {
      "cell_type": "code",
      "metadata": {
        "colab": {
          "base_uri": "https://localhost:8080/",
          "height": 1000
        },
        "id": "g2WdsV5nCZnA",
        "outputId": "25b45f75-29e3-4b3b-b2b4-52e07c1333a1"
      },
      "source": [
        "#------------------------------QUESTION 1.2------------------------------\n",
        "\n",
        "def FastTrainRBF(X_train, y_train, X_test, c, gamma_svm):\n",
        "     X_train_min = X_train.min()\n",
        "     X_train_max = X_train.max()\n",
        "     X_train_range = (X_train_max - X_train_min)\n",
        "\n",
        "     X_train_scaled = (X_train - X_train_min)/(X_train_range)\n",
        "     X_train_scaled.head()\n",
        "\n",
        "     X_test_min = X_test.min()\n",
        "     X_test_range = (X_test - X_test_min).max()\n",
        "     X_test_scaled = (X_test - X_test_min)/X_test_range\n",
        "\n",
        "     svm_model = SVC(C = c ,  gamma = gamma_svm)\n",
        "     svm_model.fit(X_train_scaled, y_train)\n",
        "\n",
        "     y_predict = svm_model.predict(X_test_scaled)\n",
        "     return(y_predict)\n",
        "\n",
        "\n",
        "optC_index = 0\n",
        "optG_index = 0\n",
        "optg_list = np.array([])\n",
        "optg_acclist = np.array([])\n",
        "    \n",
        "parameters = [0.001, 0.01, 0.1, 1, 10, 100]\n",
        "gamma_range = [2e-4, 2e-3, 2e-2, 2e0, 2e1]\n",
        "\n",
        "k_num = 10 # number of folds\n",
        "\n",
        "for p, c in enumerate(parameters):\n",
        "    print('\\nFor hyper-parameter c =', c)\n",
        "    mean_acc_gamma = []\n",
        "    optg_index_temp = 0\n",
        "\n",
        "\n",
        "    for g, gamma in enumerate(gamma_range):\n",
        "        print('For gamma =', gamma, ', 10-fold cross validation: ')\n",
        "        cross_acc = []\n",
        "        \n",
        "        for k in range(k_num):\n",
        "                \n",
        "            X_train = X.drop(range(k_num*k, k_num*(k+1)), axis = 0 ) # training features without validation\n",
        "            y_train =  y.drop(range(k_num*k, k_num*(k+1)), axis = 0 ) # training labels without validation\n",
        "\n",
        "            X_valid = X.iloc[k_num*k : k_num*(k+1), :] # validation features\n",
        "            y_valid = y[k_num*k : k_num*(k+1)] # validation labels\n",
        "            \n",
        "            y_predict = FastTrainRBF(X_train, y_train, X_valid, c, gamma)\n",
        "            prf = Performance(y_valid.to_numpy(), y_predict)\n",
        "            acc = prf.accuracy\n",
        "            #print('fold:', k, 'gamma = ', gamma, ', Accuracy =', acc, '%')        \n",
        "            cross_acc = np.append(cross_acc, acc)\n",
        "\n",
        "        mean_acc_gamma = np.append(mean_acc_gamma, cross_acc.mean()) \n",
        "        print('Mean accuracy is =', mean_acc_gamma[g], '%')\n",
        "\n",
        "        if mean_acc_gamma[g] > mean_acc_gamma[optg_index_temp] :\n",
        "            optg_index_temp = g\n",
        "\n",
        "    optg_list = np.append(optg_list, gamma_range[optg_index_temp])\n",
        "    optg_acclist = np.append(optg_acclist, mean_acc_gamma[optg_index_temp])\n",
        "    \n",
        "    if optg_acclist[p] > optg_acclist[optG_index] :\n",
        "        optG_index = p\n",
        "        optC_index = p\n",
        "\n",
        "optC = parameters[optC_index]\n",
        "optG = optg_list[optG_index]\n",
        "\n",
        "plt.semilogx(parameters, optg_acclist, '*-')\n",
        "plt.title(\"Plot of Mean Accuracies of Hyper-Parameters with their optimum gamma values\\n\")\n",
        "plt.ylabel('Mean Accuracies (%)')\n",
        "plt.xlabel('Hyper-Parameter Values (log range)')\n",
        "plt.show()\n",
        "\n",
        "print('\\nHighest accuracy is reached when hyper-parameter c =', optC, 'and gamma =', optG, ', which is determined to be the best model.\\n', '\\nWhen the best model is used on the test values, the following results are obtained: ' )        \n",
        "\n",
        "X_test = df_test.drop(['Class'], axis = 1) # We drop our \"target\" feature and use all the remaining features in our dataframe to train the model.\n",
        "X_test.head()\n",
        "y_test = df_test['Class']\n",
        "y_test.head()\n",
        "\n",
        "y_testpredict = FastTrainRBF(X, y, X_test, optC, optG)\n",
        "testprf = Performance(y_test.to_numpy(), y_testpredict)\n",
        "testprf.calculate_all()\n",
        "cm = testprf.confusion_matrix\n",
        "\n",
        "testprf.show(best_one = True)\n",
        "sns.heatmap(cm, annot=True, fmt=\"d\")\n",
        "\n",
        "print()\n"
      ],
      "execution_count": 8,
      "outputs": [
        {
          "output_type": "stream",
          "text": [
            "\n",
            "For hyper-parameter c = 0.001\n",
            "For gamma = 0.0002 , 10-fold cross validation: \n",
            "Mean accuracy is = 56.0 %\n",
            "For gamma = 0.002 , 10-fold cross validation: \n",
            "Mean accuracy is = 56.0 %\n",
            "For gamma = 0.02 , 10-fold cross validation: \n",
            "Mean accuracy is = 56.0 %\n",
            "For gamma = 2.0 , 10-fold cross validation: \n",
            "Mean accuracy is = 56.0 %\n",
            "For gamma = 20.0 , 10-fold cross validation: \n",
            "Mean accuracy is = 56.0 %\n",
            "\n",
            "For hyper-parameter c = 0.01\n",
            "For gamma = 0.0002 , 10-fold cross validation: \n",
            "Mean accuracy is = 56.0 %\n",
            "For gamma = 0.002 , 10-fold cross validation: \n",
            "Mean accuracy is = 56.0 %\n",
            "For gamma = 0.02 , 10-fold cross validation: \n",
            "Mean accuracy is = 56.0 %\n",
            "For gamma = 2.0 , 10-fold cross validation: \n",
            "Mean accuracy is = 92.0 %\n",
            "For gamma = 20.0 , 10-fold cross validation: \n",
            "Mean accuracy is = 56.0 %\n",
            "\n",
            "For hyper-parameter c = 0.1\n",
            "For gamma = 0.0002 , 10-fold cross validation: \n",
            "Mean accuracy is = 56.0 %\n",
            "For gamma = 0.002 , 10-fold cross validation: \n",
            "Mean accuracy is = 56.0 %\n",
            "For gamma = 0.02 , 10-fold cross validation: \n",
            "Mean accuracy is = 79.0 %\n",
            "For gamma = 2.0 , 10-fold cross validation: \n",
            "Mean accuracy is = 88.0 %\n",
            "For gamma = 20.0 , 10-fold cross validation: \n",
            "Mean accuracy is = 79.0 %\n",
            "\n",
            "For hyper-parameter c = 1\n",
            "For gamma = 0.0002 , 10-fold cross validation: \n",
            "Mean accuracy is = 56.0 %\n",
            "For gamma = 0.002 , 10-fold cross validation: \n",
            "Mean accuracy is = 79.0 %\n",
            "For gamma = 0.02 , 10-fold cross validation: \n",
            "Mean accuracy is = 94.0 %\n",
            "For gamma = 2.0 , 10-fold cross validation: \n",
            "Mean accuracy is = 91.0 %\n",
            "For gamma = 20.0 , 10-fold cross validation: \n",
            "Mean accuracy is = 87.0 %\n",
            "\n",
            "For hyper-parameter c = 10\n",
            "For gamma = 0.0002 , 10-fold cross validation: \n",
            "Mean accuracy is = 79.0 %\n",
            "For gamma = 0.002 , 10-fold cross validation: \n",
            "Mean accuracy is = 94.0 %\n",
            "For gamma = 0.02 , 10-fold cross validation: \n",
            "Mean accuracy is = 94.0 %\n",
            "For gamma = 2.0 , 10-fold cross validation: \n",
            "Mean accuracy is = 87.0 %\n",
            "For gamma = 20.0 , 10-fold cross validation: \n",
            "Mean accuracy is = 88.0 %\n",
            "\n",
            "For hyper-parameter c = 100\n",
            "For gamma = 0.0002 , 10-fold cross validation: \n",
            "Mean accuracy is = 94.0 %\n",
            "For gamma = 0.002 , 10-fold cross validation: \n",
            "Mean accuracy is = 94.0 %\n",
            "For gamma = 0.02 , 10-fold cross validation: \n",
            "Mean accuracy is = 93.0 %\n",
            "For gamma = 2.0 , 10-fold cross validation: \n",
            "Mean accuracy is = 88.0 %\n",
            "For gamma = 20.0 , 10-fold cross validation: \n",
            "Mean accuracy is = 88.0 %\n"
          ],
          "name": "stdout"
        },
        {
          "output_type": "display_data",
          "data": {
            "image/png": "[encoded data removed]",
            "text/plain": [
              "<Figure size 432x288 with 1 Axes>"
            ]
          },
          "metadata": {
            "tags": [],
            "needs_background": "light"
          }
        },
        {
          "output_type": "stream",
          "text": [
            "\n",
            "Highest accuracy is reached when hyper-parameter c = 1 and gamma = 0.02 , which is determined to be the best model.\n",
            " \n",
            "When the best model is used on the test values, the following results are obtained: \n",
            "Number of True Positives:  44\n",
            "Number of True Negatives:  154\n",
            "Number of False Positives:  1\n",
            "Number of False Negatives:  0\n",
            "Accuracy is  99.4975  %\n",
            "Precision is  97.7778 %\n",
            "Recall is  100.0000 %\n",
            "F1 measure is  0.9888\n",
            "F2 measure is  0.9778\n",
            "\n"
          ],
          "name": "stdout"
        },
        {
          "output_type": "display_data",
          "data": {
            "image/png": "[encoded data removed]",
            "text/plain": [
              "<Figure size 432x288 with 2 Axes>"
            ]
          },
          "metadata": {
            "tags": [],
            "needs_background": "light"
          }
        }
      ]
    }
  ]
}